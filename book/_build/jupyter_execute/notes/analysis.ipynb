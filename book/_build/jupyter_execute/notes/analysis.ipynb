{
 "cells": [
  {
   "cell_type": "code",
   "execution_count": 1,
   "metadata": {
    "vscode": {
     "languageId": "r"
    }
   },
   "outputs": [
    {
     "name": "stderr",
     "output_type": "stream",
     "text": [
      "── \u001b[1mAttaching core tidyverse packages\u001b[22m ──────────────────────── tidyverse 2.0.0 ──\n",
      "\u001b[32m✔\u001b[39m \u001b[34mdplyr    \u001b[39m 1.1.4     \u001b[32m✔\u001b[39m \u001b[34mreadr    \u001b[39m 2.1.5\n",
      "\u001b[32m✔\u001b[39m \u001b[34mforcats  \u001b[39m 1.0.0     \u001b[32m✔\u001b[39m \u001b[34mstringr  \u001b[39m 1.5.1\n",
      "\u001b[32m✔\u001b[39m \u001b[34mggplot2  \u001b[39m 3.5.1     \u001b[32m✔\u001b[39m \u001b[34mtibble   \u001b[39m 3.2.1\n",
      "\u001b[32m✔\u001b[39m \u001b[34mlubridate\u001b[39m 1.9.3     \u001b[32m✔\u001b[39m \u001b[34mtidyr    \u001b[39m 1.3.1\n",
      "\u001b[32m✔\u001b[39m \u001b[34mpurrr    \u001b[39m 1.0.2     \n"
     ]
    },
    {
     "name": "stderr",
     "output_type": "stream",
     "text": [
      "── \u001b[1mConflicts\u001b[22m ────────────────────────────────────────── tidyverse_conflicts() ──\n",
      "\u001b[31m✖\u001b[39m \u001b[34mdplyr\u001b[39m::\u001b[32mfilter()\u001b[39m masks \u001b[34mstats\u001b[39m::filter()\n",
      "\u001b[31m✖\u001b[39m \u001b[34mdplyr\u001b[39m::\u001b[32mlag()\u001b[39m    masks \u001b[34mstats\u001b[39m::lag()\n",
      "\u001b[31m✖\u001b[39m \u001b[34mdplyr\u001b[39m::\u001b[32mrecode()\u001b[39m masks \u001b[34mcar\u001b[39m::recode()\n",
      "\u001b[31m✖\u001b[39m \u001b[34mpurrr\u001b[39m::\u001b[32msome()\u001b[39m   masks \u001b[34mcar\u001b[39m::some()\n",
      "\u001b[36mℹ\u001b[39m Use the conflicted package (\u001b[3m\u001b[34m<http://conflicted.r-lib.org/>\u001b[39m\u001b[23m) to force all conflicts to become errors\n"
     ]
    },
    {
     "name": "stderr",
     "output_type": "stream",
     "text": [
      "필요한 패키지를 로딩중입니다: Matrix\n",
      "\n"
     ]
    },
    {
     "name": "stderr",
     "output_type": "stream",
     "text": [
      "\n",
      "다음의 패키지를 부착합니다: ‘Matrix’\n",
      "\n",
      "\n"
     ]
    },
    {
     "name": "stderr",
     "output_type": "stream",
     "text": [
      "The following objects are masked from ‘package:tidyr’:\n",
      "\n",
      "    expand, pack, unpack\n",
      "\n",
      "\n"
     ]
    }
   ],
   "source": [
    "library(tidyverse)\n",
    "library(dplyr)\n",
    "library(readxl)\n",
    "library(ggpubr)\n",
    "library(lme4)\n",
    "library(ggplot2)\n",
    "library(broom)\n",
    "library(purrr)"
   ]
  },
  {
   "cell_type": "code",
   "execution_count": 2,
   "metadata": {
    "vscode": {
     "languageId": "r"
    }
   },
   "outputs": [
    {
     "data": {
      "text/html": [
       "<table class=\"dataframe\">\n",
       "<caption>A data.frame: 6 × 44</caption>\n",
       "<thead>\n",
       "\t<tr><th></th><th scope=col>subject_id</th><th scope=col>COVID</th><th scope=col>Age_cat</th><th scope=col>BMI_cat</th><th scope=col>HEART</th><th scope=col>LUNG</th><th scope=col>KIDNEY</th><th scope=col>DIABETES</th><th scope=col>HTN</th><th scope=col>IMMUNO</th><th scope=col>⋯</th><th scope=col>crp_3_cat</th><th scope=col>ddimer_3_cat</th><th scope=col>ldh_3_cat</th><th scope=col>abs_neut_7_cat</th><th scope=col>abs_lymph_7_cat</th><th scope=col>abs_mono_7_cat</th><th scope=col>creat_7_cat</th><th scope=col>crp_7_cat</th><th scope=col>ddimer_7_cat</th><th scope=col>ldh_7_cat</th></tr>\n",
       "\t<tr><th></th><th scope=col>&lt;int&gt;</th><th scope=col>&lt;int&gt;</th><th scope=col>&lt;int&gt;</th><th scope=col>&lt;int&gt;</th><th scope=col>&lt;int&gt;</th><th scope=col>&lt;int&gt;</th><th scope=col>&lt;int&gt;</th><th scope=col>&lt;int&gt;</th><th scope=col>&lt;int&gt;</th><th scope=col>&lt;int&gt;</th><th scope=col>⋯</th><th scope=col>&lt;int&gt;</th><th scope=col>&lt;int&gt;</th><th scope=col>&lt;int&gt;</th><th scope=col>&lt;int&gt;</th><th scope=col>&lt;int&gt;</th><th scope=col>&lt;int&gt;</th><th scope=col>&lt;int&gt;</th><th scope=col>&lt;int&gt;</th><th scope=col>&lt;int&gt;</th><th scope=col>&lt;int&gt;</th></tr>\n",
       "</thead>\n",
       "<tbody>\n",
       "\t<tr><th scope=row>1</th><td>1</td><td>1</td><td>1</td><td>4</td><td>0</td><td>0</td><td>0</td><td>0</td><td>0</td><td>0</td><td>⋯</td><td>1</td><td> 1</td><td> 1</td><td>NA</td><td>NA</td><td>NA</td><td>NA</td><td>NA</td><td>NA</td><td>NA</td></tr>\n",
       "\t<tr><th scope=row>2</th><td>2</td><td>1</td><td>2</td><td>2</td><td>0</td><td>0</td><td>0</td><td>0</td><td>0</td><td>0</td><td>⋯</td><td>2</td><td>NA</td><td>NA</td><td>NA</td><td>NA</td><td>NA</td><td>NA</td><td>NA</td><td>NA</td><td>NA</td></tr>\n",
       "\t<tr><th scope=row>3</th><td>3</td><td>1</td><td>3</td><td>4</td><td>0</td><td>1</td><td>0</td><td>0</td><td>0</td><td>0</td><td>⋯</td><td>3</td><td> 2</td><td> 3</td><td>NA</td><td>NA</td><td>NA</td><td>NA</td><td>NA</td><td>NA</td><td>NA</td></tr>\n",
       "\t<tr><th scope=row>4</th><td>4</td><td>1</td><td>1</td><td>2</td><td>0</td><td>0</td><td>0</td><td>0</td><td>0</td><td>0</td><td>⋯</td><td>2</td><td> 2</td><td> 3</td><td>NA</td><td>NA</td><td>NA</td><td>NA</td><td>NA</td><td>NA</td><td>NA</td></tr>\n",
       "\t<tr><th scope=row>5</th><td>5</td><td>1</td><td>3</td><td>3</td><td>0</td><td>0</td><td>0</td><td>1</td><td>1</td><td>0</td><td>⋯</td><td>5</td><td> 3</td><td>NA</td><td> 3</td><td> 5</td><td> 3</td><td> 1</td><td> 4</td><td> 4</td><td> 3</td></tr>\n",
       "\t<tr><th scope=row>6</th><td>6</td><td>1</td><td>1</td><td>1</td><td>1</td><td>0</td><td>0</td><td>0</td><td>0</td><td>0</td><td>⋯</td><td>4</td><td> 3</td><td> 5</td><td> 3</td><td> 3</td><td> 2</td><td> 1</td><td> 4</td><td> 5</td><td> 5</td></tr>\n",
       "</tbody>\n",
       "</table>\n"
      ],
      "text/latex": [
       "A data.frame: 6 × 44\n",
       "\\begin{tabular}{r|lllllllllllllllllllll}\n",
       "  & subject\\_id & COVID & Age\\_cat & BMI\\_cat & HEART & LUNG & KIDNEY & DIABETES & HTN & IMMUNO & ⋯ & crp\\_3\\_cat & ddimer\\_3\\_cat & ldh\\_3\\_cat & abs\\_neut\\_7\\_cat & abs\\_lymph\\_7\\_cat & abs\\_mono\\_7\\_cat & creat\\_7\\_cat & crp\\_7\\_cat & ddimer\\_7\\_cat & ldh\\_7\\_cat\\\\\n",
       "  & <int> & <int> & <int> & <int> & <int> & <int> & <int> & <int> & <int> & <int> & ⋯ & <int> & <int> & <int> & <int> & <int> & <int> & <int> & <int> & <int> & <int>\\\\\n",
       "\\hline\n",
       "\t1 & 1 & 1 & 1 & 4 & 0 & 0 & 0 & 0 & 0 & 0 & ⋯ & 1 &  1 &  1 & NA & NA & NA & NA & NA & NA & NA\\\\\n",
       "\t2 & 2 & 1 & 2 & 2 & 0 & 0 & 0 & 0 & 0 & 0 & ⋯ & 2 & NA & NA & NA & NA & NA & NA & NA & NA & NA\\\\\n",
       "\t3 & 3 & 1 & 3 & 4 & 0 & 1 & 0 & 0 & 0 & 0 & ⋯ & 3 &  2 &  3 & NA & NA & NA & NA & NA & NA & NA\\\\\n",
       "\t4 & 4 & 1 & 1 & 2 & 0 & 0 & 0 & 0 & 0 & 0 & ⋯ & 2 &  2 &  3 & NA & NA & NA & NA & NA & NA & NA\\\\\n",
       "\t5 & 5 & 1 & 3 & 3 & 0 & 0 & 0 & 1 & 1 & 0 & ⋯ & 5 &  3 & NA &  3 &  5 &  3 &  1 &  4 &  4 &  3\\\\\n",
       "\t6 & 6 & 1 & 1 & 1 & 1 & 0 & 0 & 0 & 0 & 0 & ⋯ & 4 &  3 &  5 &  3 &  3 &  2 &  1 &  4 &  5 &  5\\\\\n",
       "\\end{tabular}\n"
      ],
      "text/markdown": [
       "\n",
       "A data.frame: 6 × 44\n",
       "\n",
       "| <!--/--> | subject_id &lt;int&gt; | COVID &lt;int&gt; | Age_cat &lt;int&gt; | BMI_cat &lt;int&gt; | HEART &lt;int&gt; | LUNG &lt;int&gt; | KIDNEY &lt;int&gt; | DIABETES &lt;int&gt; | HTN &lt;int&gt; | IMMUNO &lt;int&gt; | ⋯ ⋯ | crp_3_cat &lt;int&gt; | ddimer_3_cat &lt;int&gt; | ldh_3_cat &lt;int&gt; | abs_neut_7_cat &lt;int&gt; | abs_lymph_7_cat &lt;int&gt; | abs_mono_7_cat &lt;int&gt; | creat_7_cat &lt;int&gt; | crp_7_cat &lt;int&gt; | ddimer_7_cat &lt;int&gt; | ldh_7_cat &lt;int&gt; |\n",
       "|---|---|---|---|---|---|---|---|---|---|---|---|---|---|---|---|---|---|---|---|---|---|\n",
       "| 1 | 1 | 1 | 1 | 4 | 0 | 0 | 0 | 0 | 0 | 0 | ⋯ | 1 |  1 |  1 | NA | NA | NA | NA | NA | NA | NA |\n",
       "| 2 | 2 | 1 | 2 | 2 | 0 | 0 | 0 | 0 | 0 | 0 | ⋯ | 2 | NA | NA | NA | NA | NA | NA | NA | NA | NA |\n",
       "| 3 | 3 | 1 | 3 | 4 | 0 | 1 | 0 | 0 | 0 | 0 | ⋯ | 3 |  2 |  3 | NA | NA | NA | NA | NA | NA | NA |\n",
       "| 4 | 4 | 1 | 1 | 2 | 0 | 0 | 0 | 0 | 0 | 0 | ⋯ | 2 |  2 |  3 | NA | NA | NA | NA | NA | NA | NA |\n",
       "| 5 | 5 | 1 | 3 | 3 | 0 | 0 | 0 | 1 | 1 | 0 | ⋯ | 5 |  3 | NA |  3 |  5 |  3 |  1 |  4 |  4 |  3 |\n",
       "| 6 | 6 | 1 | 1 | 1 | 1 | 0 | 0 | 0 | 0 | 0 | ⋯ | 4 |  3 |  5 |  3 |  3 |  2 |  1 |  4 |  5 |  5 |\n",
       "\n"
      ],
      "text/plain": [
       "  subject_id COVID Age_cat BMI_cat HEART LUNG KIDNEY DIABETES HTN IMMUNO ⋯\n",
       "1 1          1     1       4       0     0    0      0        0   0      ⋯\n",
       "2 2          1     2       2       0     0    0      0        0   0      ⋯\n",
       "3 3          1     3       4       0     1    0      0        0   0      ⋯\n",
       "4 4          1     1       2       0     0    0      0        0   0      ⋯\n",
       "5 5          1     3       3       0     0    0      1        1   0      ⋯\n",
       "6 6          1     1       1       1     0    0      0        0   0      ⋯\n",
       "  crp_3_cat ddimer_3_cat ldh_3_cat abs_neut_7_cat abs_lymph_7_cat\n",
       "1 1          1            1        NA             NA             \n",
       "2 2         NA           NA        NA             NA             \n",
       "3 3          2            3        NA             NA             \n",
       "4 2          2            3        NA             NA             \n",
       "5 5          3           NA         3              5             \n",
       "6 4          3            5         3              3             \n",
       "  abs_mono_7_cat creat_7_cat crp_7_cat ddimer_7_cat ldh_7_cat\n",
       "1 NA             NA          NA        NA           NA       \n",
       "2 NA             NA          NA        NA           NA       \n",
       "3 NA             NA          NA        NA           NA       \n",
       "4 NA             NA          NA        NA           NA       \n",
       "5  3              1           4         4            3       \n",
       "6  2              1           4         5            5       "
      ]
     },
     "metadata": {},
     "output_type": "display_data"
    },
    {
     "data": {
      "text/html": [
       "<table class=\"dataframe\">\n",
       "<caption>A data.frame: 6 × 44</caption>\n",
       "<thead>\n",
       "\t<tr><th></th><th scope=col>subject_id</th><th scope=col>COVID</th><th scope=col>Age_cat</th><th scope=col>BMI_cat</th><th scope=col>HEART</th><th scope=col>LUNG</th><th scope=col>KIDNEY</th><th scope=col>DIABETES</th><th scope=col>HTN</th><th scope=col>IMMUNO</th><th scope=col>⋯</th><th scope=col>crp_3_cat</th><th scope=col>ddimer_3_cat</th><th scope=col>ldh_3_cat</th><th scope=col>abs_neut_7_cat</th><th scope=col>abs_lymph_7_cat</th><th scope=col>abs_mono_7_cat</th><th scope=col>creat_7_cat</th><th scope=col>crp_7_cat</th><th scope=col>ddimer_7_cat</th><th scope=col>ldh_7_cat</th></tr>\n",
       "\t<tr><th></th><th scope=col>&lt;int&gt;</th><th scope=col>&lt;int&gt;</th><th scope=col>&lt;int&gt;</th><th scope=col>&lt;int&gt;</th><th scope=col>&lt;int&gt;</th><th scope=col>&lt;int&gt;</th><th scope=col>&lt;int&gt;</th><th scope=col>&lt;int&gt;</th><th scope=col>&lt;int&gt;</th><th scope=col>&lt;int&gt;</th><th scope=col>⋯</th><th scope=col>&lt;int&gt;</th><th scope=col>&lt;int&gt;</th><th scope=col>&lt;int&gt;</th><th scope=col>&lt;int&gt;</th><th scope=col>&lt;int&gt;</th><th scope=col>&lt;int&gt;</th><th scope=col>&lt;int&gt;</th><th scope=col>&lt;int&gt;</th><th scope=col>&lt;int&gt;</th><th scope=col>&lt;int&gt;</th></tr>\n",
       "</thead>\n",
       "<tbody>\n",
       "\t<tr><th scope=row>379</th><td>381</td><td>0</td><td>3</td><td>3</td><td>0</td><td>1</td><td>0</td><td>1</td><td>1</td><td>0</td><td>⋯</td><td>NA</td><td>NA</td><td>NA</td><td>NA</td><td>NA</td><td>NA</td><td>NA</td><td>NA</td><td>NA</td><td>NA</td></tr>\n",
       "\t<tr><th scope=row>380</th><td>382</td><td>1</td><td>1</td><td>3</td><td>0</td><td>0</td><td>0</td><td>0</td><td>0</td><td>0</td><td>⋯</td><td> 4</td><td> 3</td><td> 3</td><td> 3</td><td> 1</td><td> 1</td><td> 1</td><td> 5</td><td> 3</td><td> 2</td></tr>\n",
       "\t<tr><th scope=row>381</th><td>383</td><td>1</td><td>5</td><td>1</td><td>0</td><td>0</td><td>1</td><td>1</td><td>1</td><td>0</td><td>⋯</td><td>NA</td><td> 5</td><td> 3</td><td> 5</td><td> 2</td><td> 2</td><td> 3</td><td>NA</td><td>NA</td><td>NA</td></tr>\n",
       "\t<tr><th scope=row>382</th><td>384</td><td>1</td><td>5</td><td>2</td><td>1</td><td>0</td><td>0</td><td>0</td><td>1</td><td>0</td><td>⋯</td><td> 3</td><td> 3</td><td> 2</td><td> 2</td><td> 2</td><td> 3</td><td> 2</td><td>NA</td><td>NA</td><td>NA</td></tr>\n",
       "\t<tr><th scope=row>383</th><td>385</td><td>1</td><td>3</td><td>3</td><td>0</td><td>0</td><td>0</td><td>0</td><td>0</td><td>0</td><td>⋯</td><td> 2</td><td> 2</td><td> 2</td><td>NA</td><td>NA</td><td>NA</td><td>NA</td><td>NA</td><td>NA</td><td>NA</td></tr>\n",
       "\t<tr><th scope=row>384</th><td>386</td><td>0</td><td>4</td><td>3</td><td>0</td><td>1</td><td>0</td><td>0</td><td>1</td><td>0</td><td>⋯</td><td>NA</td><td>NA</td><td>NA</td><td>NA</td><td>NA</td><td>NA</td><td>NA</td><td>NA</td><td>NA</td><td>NA</td></tr>\n",
       "</tbody>\n",
       "</table>\n"
      ],
      "text/latex": [
       "A data.frame: 6 × 44\n",
       "\\begin{tabular}{r|lllllllllllllllllllll}\n",
       "  & subject\\_id & COVID & Age\\_cat & BMI\\_cat & HEART & LUNG & KIDNEY & DIABETES & HTN & IMMUNO & ⋯ & crp\\_3\\_cat & ddimer\\_3\\_cat & ldh\\_3\\_cat & abs\\_neut\\_7\\_cat & abs\\_lymph\\_7\\_cat & abs\\_mono\\_7\\_cat & creat\\_7\\_cat & crp\\_7\\_cat & ddimer\\_7\\_cat & ldh\\_7\\_cat\\\\\n",
       "  & <int> & <int> & <int> & <int> & <int> & <int> & <int> & <int> & <int> & <int> & ⋯ & <int> & <int> & <int> & <int> & <int> & <int> & <int> & <int> & <int> & <int>\\\\\n",
       "\\hline\n",
       "\t379 & 381 & 0 & 3 & 3 & 0 & 1 & 0 & 1 & 1 & 0 & ⋯ & NA & NA & NA & NA & NA & NA & NA & NA & NA & NA\\\\\n",
       "\t380 & 382 & 1 & 1 & 3 & 0 & 0 & 0 & 0 & 0 & 0 & ⋯ &  4 &  3 &  3 &  3 &  1 &  1 &  1 &  5 &  3 &  2\\\\\n",
       "\t381 & 383 & 1 & 5 & 1 & 0 & 0 & 1 & 1 & 1 & 0 & ⋯ & NA &  5 &  3 &  5 &  2 &  2 &  3 & NA & NA & NA\\\\\n",
       "\t382 & 384 & 1 & 5 & 2 & 1 & 0 & 0 & 0 & 1 & 0 & ⋯ &  3 &  3 &  2 &  2 &  2 &  3 &  2 & NA & NA & NA\\\\\n",
       "\t383 & 385 & 1 & 3 & 3 & 0 & 0 & 0 & 0 & 0 & 0 & ⋯ &  2 &  2 &  2 & NA & NA & NA & NA & NA & NA & NA\\\\\n",
       "\t384 & 386 & 0 & 4 & 3 & 0 & 1 & 0 & 0 & 1 & 0 & ⋯ & NA & NA & NA & NA & NA & NA & NA & NA & NA & NA\\\\\n",
       "\\end{tabular}\n"
      ],
      "text/markdown": [
       "\n",
       "A data.frame: 6 × 44\n",
       "\n",
       "| <!--/--> | subject_id &lt;int&gt; | COVID &lt;int&gt; | Age_cat &lt;int&gt; | BMI_cat &lt;int&gt; | HEART &lt;int&gt; | LUNG &lt;int&gt; | KIDNEY &lt;int&gt; | DIABETES &lt;int&gt; | HTN &lt;int&gt; | IMMUNO &lt;int&gt; | ⋯ ⋯ | crp_3_cat &lt;int&gt; | ddimer_3_cat &lt;int&gt; | ldh_3_cat &lt;int&gt; | abs_neut_7_cat &lt;int&gt; | abs_lymph_7_cat &lt;int&gt; | abs_mono_7_cat &lt;int&gt; | creat_7_cat &lt;int&gt; | crp_7_cat &lt;int&gt; | ddimer_7_cat &lt;int&gt; | ldh_7_cat &lt;int&gt; |\n",
       "|---|---|---|---|---|---|---|---|---|---|---|---|---|---|---|---|---|---|---|---|---|---|\n",
       "| 379 | 381 | 0 | 3 | 3 | 0 | 1 | 0 | 1 | 1 | 0 | ⋯ | NA | NA | NA | NA | NA | NA | NA | NA | NA | NA |\n",
       "| 380 | 382 | 1 | 1 | 3 | 0 | 0 | 0 | 0 | 0 | 0 | ⋯ |  4 |  3 |  3 |  3 |  1 |  1 |  1 |  5 |  3 |  2 |\n",
       "| 381 | 383 | 1 | 5 | 1 | 0 | 0 | 1 | 1 | 1 | 0 | ⋯ | NA |  5 |  3 |  5 |  2 |  2 |  3 | NA | NA | NA |\n",
       "| 382 | 384 | 1 | 5 | 2 | 1 | 0 | 0 | 0 | 1 | 0 | ⋯ |  3 |  3 |  2 |  2 |  2 |  3 |  2 | NA | NA | NA |\n",
       "| 383 | 385 | 1 | 3 | 3 | 0 | 0 | 0 | 0 | 0 | 0 | ⋯ |  2 |  2 |  2 | NA | NA | NA | NA | NA | NA | NA |\n",
       "| 384 | 386 | 0 | 4 | 3 | 0 | 1 | 0 | 0 | 1 | 0 | ⋯ | NA | NA | NA | NA | NA | NA | NA | NA | NA | NA |\n",
       "\n"
      ],
      "text/plain": [
       "    subject_id COVID Age_cat BMI_cat HEART LUNG KIDNEY DIABETES HTN IMMUNO ⋯\n",
       "379 381        0     3       3       0     1    0      1        1   0      ⋯\n",
       "380 382        1     1       3       0     0    0      0        0   0      ⋯\n",
       "381 383        1     5       1       0     0    1      1        1   0      ⋯\n",
       "382 384        1     5       2       1     0    0      0        1   0      ⋯\n",
       "383 385        1     3       3       0     0    0      0        0   0      ⋯\n",
       "384 386        0     4       3       0     1    0      0        1   0      ⋯\n",
       "    crp_3_cat ddimer_3_cat ldh_3_cat abs_neut_7_cat abs_lymph_7_cat\n",
       "379 NA        NA           NA        NA             NA             \n",
       "380  4         3            3         3              1             \n",
       "381 NA         5            3         5              2             \n",
       "382  3         3            2         2              2             \n",
       "383  2         2            2        NA             NA             \n",
       "384 NA        NA           NA        NA             NA             \n",
       "    abs_mono_7_cat creat_7_cat crp_7_cat ddimer_7_cat ldh_7_cat\n",
       "379 NA             NA          NA        NA           NA       \n",
       "380  1              1           5         3            2       \n",
       "381  2              3          NA        NA           NA       \n",
       "382  3              2          NA        NA           NA       \n",
       "383 NA             NA          NA        NA           NA       \n",
       "384 NA             NA          NA        NA           NA       "
      ]
     },
     "metadata": {},
     "output_type": "display_data"
    }
   ],
   "source": [
    "patient_df <- read.delim(\"/Users/jennylee/Downloads/MGH_Olink_COVID_Apr_27_2021/MGH_COVID_Clinical_Info.txt\", header=TRUE, sep=\";\")\n",
    "head(patient_df)\n",
    "tail(patient_df)"
   ]
  },
  {
   "cell_type": "code",
   "execution_count": null,
   "metadata": {
    "vscode": {
     "languageId": "r"
    }
   },
   "outputs": [],
   "source": []
  }
 ],
 "metadata": {
  "kernelspec": {
   "display_name": "R",
   "language": "R",
   "name": "ir"
  },
  "language_info": {
   "codemirror_mode": "r",
   "file_extension": ".r",
   "mimetype": "text/x-r-source",
   "name": "R",
   "pygments_lexer": "r",
   "version": "4.3.2"
  }
 },
 "nbformat": 4,
 "nbformat_minor": 2
}