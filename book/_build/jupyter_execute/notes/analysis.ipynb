{
 "cells": [
  {
   "cell_type": "code",
   "execution_count": 1,
   "metadata": {
    "tags": [
     "remove-cell"
    ],
    "vscode": {
     "languageId": "r"
    }
   },
   "outputs": [
    {
     "name": "stderr",
     "output_type": "stream",
     "text": [
      "── \u001b[1mAttaching core tidyverse packages\u001b[22m ──────────────────────── tidyverse 2.0.0 ──\n",
      "\u001b[32m✔\u001b[39m \u001b[34mdplyr    \u001b[39m 1.1.4     \u001b[32m✔\u001b[39m \u001b[34mreadr    \u001b[39m 2.1.5\n",
      "\u001b[32m✔\u001b[39m \u001b[34mforcats  \u001b[39m 1.0.0     \u001b[32m✔\u001b[39m \u001b[34mstringr  \u001b[39m 1.5.1\n",
      "\u001b[32m✔\u001b[39m \u001b[34mggplot2  \u001b[39m 3.5.1     \u001b[32m✔\u001b[39m \u001b[34mtibble   \u001b[39m 3.2.1\n",
      "\u001b[32m✔\u001b[39m \u001b[34mlubridate\u001b[39m 1.9.3     \u001b[32m✔\u001b[39m \u001b[34mtidyr    \u001b[39m 1.3.1\n",
      "\u001b[32m✔\u001b[39m \u001b[34mpurrr    \u001b[39m 1.0.2     \n"
     ]
    },
    {
     "name": "stderr",
     "output_type": "stream",
     "text": [
      "── \u001b[1mConflicts\u001b[22m ────────────────────────────────────────── tidyverse_conflicts() ──\n",
      "\u001b[31m✖\u001b[39m \u001b[34mdplyr\u001b[39m::\u001b[32mfilter()\u001b[39m masks \u001b[34mstats\u001b[39m::filter()\n",
      "\u001b[31m✖\u001b[39m \u001b[34mdplyr\u001b[39m::\u001b[32mlag()\u001b[39m    masks \u001b[34mstats\u001b[39m::lag()\n",
      "\u001b[31m✖\u001b[39m \u001b[34mdplyr\u001b[39m::\u001b[32mrecode()\u001b[39m masks \u001b[34mcar\u001b[39m::recode()\n",
      "\u001b[31m✖\u001b[39m \u001b[34mpurrr\u001b[39m::\u001b[32msome()\u001b[39m   masks \u001b[34mcar\u001b[39m::some()\n",
      "\u001b[36mℹ\u001b[39m Use the conflicted package (\u001b[3m\u001b[34m<http://conflicted.r-lib.org/>\u001b[39m\u001b[23m) to force all conflicts to become errors\n"
     ]
    },
    {
     "name": "stderr",
     "output_type": "stream",
     "text": [
      "필요한 패키지를 로딩중입니다: Matrix\n",
      "\n"
     ]
    },
    {
     "name": "stderr",
     "output_type": "stream",
     "text": [
      "\n",
      "다음의 패키지를 부착합니다: ‘Matrix’\n",
      "\n",
      "\n"
     ]
    },
    {
     "name": "stderr",
     "output_type": "stream",
     "text": [
      "The following objects are masked from ‘package:tidyr’:\n",
      "\n",
      "    expand, pack, unpack\n",
      "\n",
      "\n"
     ]
    }
   ],
   "source": [
    "library(tidyverse)\n",
    "library(dplyr)\n",
    "library(readxl)\n",
    "library(ggpubr)\n",
    "library(lme4)\n",
    "library(ggplot2)\n",
    "library(broom)\n",
    "library(purrr)"
   ]
  },
  {
   "cell_type": "markdown",
   "metadata": {},
   "source": [
    "# Preliminary Data Analysis"
   ]
  },
  {
   "cell_type": "markdown",
   "metadata": {},
   "source": [
    "## 1. Load Data"
   ]
  },
  {
   "cell_type": "code",
   "execution_count": 2,
   "metadata": {
    "tags": [
     "hide-input"
    ],
    "vscode": {
     "languageId": "r"
    }
   },
   "outputs": [
    {
     "data": {
      "text/html": [
       "<table class=\"dataframe\">\n",
       "<caption>A data.frame: 6 × 44</caption>\n",
       "<thead>\n",
       "\t<tr><th></th><th scope=col>subject_id</th><th scope=col>COVID</th><th scope=col>Age_cat</th><th scope=col>BMI_cat</th><th scope=col>HEART</th><th scope=col>LUNG</th><th scope=col>KIDNEY</th><th scope=col>DIABETES</th><th scope=col>HTN</th><th scope=col>IMMUNO</th><th scope=col>⋯</th><th scope=col>crp_3_cat</th><th scope=col>ddimer_3_cat</th><th scope=col>ldh_3_cat</th><th scope=col>abs_neut_7_cat</th><th scope=col>abs_lymph_7_cat</th><th scope=col>abs_mono_7_cat</th><th scope=col>creat_7_cat</th><th scope=col>crp_7_cat</th><th scope=col>ddimer_7_cat</th><th scope=col>ldh_7_cat</th></tr>\n",
       "\t<tr><th></th><th scope=col>&lt;int&gt;</th><th scope=col>&lt;int&gt;</th><th scope=col>&lt;int&gt;</th><th scope=col>&lt;int&gt;</th><th scope=col>&lt;int&gt;</th><th scope=col>&lt;int&gt;</th><th scope=col>&lt;int&gt;</th><th scope=col>&lt;int&gt;</th><th scope=col>&lt;int&gt;</th><th scope=col>&lt;int&gt;</th><th scope=col>⋯</th><th scope=col>&lt;int&gt;</th><th scope=col>&lt;int&gt;</th><th scope=col>&lt;int&gt;</th><th scope=col>&lt;int&gt;</th><th scope=col>&lt;int&gt;</th><th scope=col>&lt;int&gt;</th><th scope=col>&lt;int&gt;</th><th scope=col>&lt;int&gt;</th><th scope=col>&lt;int&gt;</th><th scope=col>&lt;int&gt;</th></tr>\n",
       "</thead>\n",
       "<tbody>\n",
       "\t<tr><th scope=row>1</th><td>1</td><td>1</td><td>1</td><td>4</td><td>0</td><td>0</td><td>0</td><td>0</td><td>0</td><td>0</td><td>⋯</td><td>1</td><td> 1</td><td> 1</td><td>NA</td><td>NA</td><td>NA</td><td>NA</td><td>NA</td><td>NA</td><td>NA</td></tr>\n",
       "\t<tr><th scope=row>2</th><td>2</td><td>1</td><td>2</td><td>2</td><td>0</td><td>0</td><td>0</td><td>0</td><td>0</td><td>0</td><td>⋯</td><td>2</td><td>NA</td><td>NA</td><td>NA</td><td>NA</td><td>NA</td><td>NA</td><td>NA</td><td>NA</td><td>NA</td></tr>\n",
       "\t<tr><th scope=row>3</th><td>3</td><td>1</td><td>3</td><td>4</td><td>0</td><td>1</td><td>0</td><td>0</td><td>0</td><td>0</td><td>⋯</td><td>3</td><td> 2</td><td> 3</td><td>NA</td><td>NA</td><td>NA</td><td>NA</td><td>NA</td><td>NA</td><td>NA</td></tr>\n",
       "\t<tr><th scope=row>4</th><td>4</td><td>1</td><td>1</td><td>2</td><td>0</td><td>0</td><td>0</td><td>0</td><td>0</td><td>0</td><td>⋯</td><td>2</td><td> 2</td><td> 3</td><td>NA</td><td>NA</td><td>NA</td><td>NA</td><td>NA</td><td>NA</td><td>NA</td></tr>\n",
       "\t<tr><th scope=row>5</th><td>5</td><td>1</td><td>3</td><td>3</td><td>0</td><td>0</td><td>0</td><td>1</td><td>1</td><td>0</td><td>⋯</td><td>5</td><td> 3</td><td>NA</td><td> 3</td><td> 5</td><td> 3</td><td> 1</td><td> 4</td><td> 4</td><td> 3</td></tr>\n",
       "\t<tr><th scope=row>6</th><td>6</td><td>1</td><td>1</td><td>1</td><td>1</td><td>0</td><td>0</td><td>0</td><td>0</td><td>0</td><td>⋯</td><td>4</td><td> 3</td><td> 5</td><td> 3</td><td> 3</td><td> 2</td><td> 1</td><td> 4</td><td> 5</td><td> 5</td></tr>\n",
       "</tbody>\n",
       "</table>\n"
      ],
      "text/latex": [
       "A data.frame: 6 × 44\n",
       "\\begin{tabular}{r|lllllllllllllllllllll}\n",
       "  & subject\\_id & COVID & Age\\_cat & BMI\\_cat & HEART & LUNG & KIDNEY & DIABETES & HTN & IMMUNO & ⋯ & crp\\_3\\_cat & ddimer\\_3\\_cat & ldh\\_3\\_cat & abs\\_neut\\_7\\_cat & abs\\_lymph\\_7\\_cat & abs\\_mono\\_7\\_cat & creat\\_7\\_cat & crp\\_7\\_cat & ddimer\\_7\\_cat & ldh\\_7\\_cat\\\\\n",
       "  & <int> & <int> & <int> & <int> & <int> & <int> & <int> & <int> & <int> & <int> & ⋯ & <int> & <int> & <int> & <int> & <int> & <int> & <int> & <int> & <int> & <int>\\\\\n",
       "\\hline\n",
       "\t1 & 1 & 1 & 1 & 4 & 0 & 0 & 0 & 0 & 0 & 0 & ⋯ & 1 &  1 &  1 & NA & NA & NA & NA & NA & NA & NA\\\\\n",
       "\t2 & 2 & 1 & 2 & 2 & 0 & 0 & 0 & 0 & 0 & 0 & ⋯ & 2 & NA & NA & NA & NA & NA & NA & NA & NA & NA\\\\\n",
       "\t3 & 3 & 1 & 3 & 4 & 0 & 1 & 0 & 0 & 0 & 0 & ⋯ & 3 &  2 &  3 & NA & NA & NA & NA & NA & NA & NA\\\\\n",
       "\t4 & 4 & 1 & 1 & 2 & 0 & 0 & 0 & 0 & 0 & 0 & ⋯ & 2 &  2 &  3 & NA & NA & NA & NA & NA & NA & NA\\\\\n",
       "\t5 & 5 & 1 & 3 & 3 & 0 & 0 & 0 & 1 & 1 & 0 & ⋯ & 5 &  3 & NA &  3 &  5 &  3 &  1 &  4 &  4 &  3\\\\\n",
       "\t6 & 6 & 1 & 1 & 1 & 1 & 0 & 0 & 0 & 0 & 0 & ⋯ & 4 &  3 &  5 &  3 &  3 &  2 &  1 &  4 &  5 &  5\\\\\n",
       "\\end{tabular}\n"
      ],
      "text/markdown": [
       "\n",
       "A data.frame: 6 × 44\n",
       "\n",
       "| <!--/--> | subject_id &lt;int&gt; | COVID &lt;int&gt; | Age_cat &lt;int&gt; | BMI_cat &lt;int&gt; | HEART &lt;int&gt; | LUNG &lt;int&gt; | KIDNEY &lt;int&gt; | DIABETES &lt;int&gt; | HTN &lt;int&gt; | IMMUNO &lt;int&gt; | ⋯ ⋯ | crp_3_cat &lt;int&gt; | ddimer_3_cat &lt;int&gt; | ldh_3_cat &lt;int&gt; | abs_neut_7_cat &lt;int&gt; | abs_lymph_7_cat &lt;int&gt; | abs_mono_7_cat &lt;int&gt; | creat_7_cat &lt;int&gt; | crp_7_cat &lt;int&gt; | ddimer_7_cat &lt;int&gt; | ldh_7_cat &lt;int&gt; |\n",
       "|---|---|---|---|---|---|---|---|---|---|---|---|---|---|---|---|---|---|---|---|---|---|\n",
       "| 1 | 1 | 1 | 1 | 4 | 0 | 0 | 0 | 0 | 0 | 0 | ⋯ | 1 |  1 |  1 | NA | NA | NA | NA | NA | NA | NA |\n",
       "| 2 | 2 | 1 | 2 | 2 | 0 | 0 | 0 | 0 | 0 | 0 | ⋯ | 2 | NA | NA | NA | NA | NA | NA | NA | NA | NA |\n",
       "| 3 | 3 | 1 | 3 | 4 | 0 | 1 | 0 | 0 | 0 | 0 | ⋯ | 3 |  2 |  3 | NA | NA | NA | NA | NA | NA | NA |\n",
       "| 4 | 4 | 1 | 1 | 2 | 0 | 0 | 0 | 0 | 0 | 0 | ⋯ | 2 |  2 |  3 | NA | NA | NA | NA | NA | NA | NA |\n",
       "| 5 | 5 | 1 | 3 | 3 | 0 | 0 | 0 | 1 | 1 | 0 | ⋯ | 5 |  3 | NA |  3 |  5 |  3 |  1 |  4 |  4 |  3 |\n",
       "| 6 | 6 | 1 | 1 | 1 | 1 | 0 | 0 | 0 | 0 | 0 | ⋯ | 4 |  3 |  5 |  3 |  3 |  2 |  1 |  4 |  5 |  5 |\n",
       "\n"
      ],
      "text/plain": [
       "  subject_id COVID Age_cat BMI_cat HEART LUNG KIDNEY DIABETES HTN IMMUNO ⋯\n",
       "1 1          1     1       4       0     0    0      0        0   0      ⋯\n",
       "2 2          1     2       2       0     0    0      0        0   0      ⋯\n",
       "3 3          1     3       4       0     1    0      0        0   0      ⋯\n",
       "4 4          1     1       2       0     0    0      0        0   0      ⋯\n",
       "5 5          1     3       3       0     0    0      1        1   0      ⋯\n",
       "6 6          1     1       1       1     0    0      0        0   0      ⋯\n",
       "  crp_3_cat ddimer_3_cat ldh_3_cat abs_neut_7_cat abs_lymph_7_cat\n",
       "1 1          1            1        NA             NA             \n",
       "2 2         NA           NA        NA             NA             \n",
       "3 3          2            3        NA             NA             \n",
       "4 2          2            3        NA             NA             \n",
       "5 5          3           NA         3              5             \n",
       "6 4          3            5         3              3             \n",
       "  abs_mono_7_cat creat_7_cat crp_7_cat ddimer_7_cat ldh_7_cat\n",
       "1 NA             NA          NA        NA           NA       \n",
       "2 NA             NA          NA        NA           NA       \n",
       "3 NA             NA          NA        NA           NA       \n",
       "4 NA             NA          NA        NA           NA       \n",
       "5  3              1           4         4            3       \n",
       "6  2              1           4         5            5       "
      ]
     },
     "metadata": {},
     "output_type": "display_data"
    },
    {
     "name": "stdout",
     "output_type": "stream",
     "text": [
      "[1] \"This dataframe has 384 rows in total.\"\n"
     ]
    },
    {
     "name": "stdout",
     "output_type": "stream",
     "text": [
      "Rows: 384\n",
      "Columns: 44\n",
      "$ subject_id      \u001b[3m\u001b[90m<int>\u001b[39m\u001b[23m 1, 2, 3, 4, 5, 6, 7, 8, 9, 10, 11, 12, 13, 14, 15, 16,…\n",
      "$ COVID           \u001b[3m\u001b[90m<int>\u001b[39m\u001b[23m 1, 1, 1, 1, 1, 1, 1, 0, 1, 0, 1, 1, 1, 1, 1, 0, 1, 1, …\n",
      "$ Age_cat         \u001b[3m\u001b[90m<int>\u001b[39m\u001b[23m 1, 2, 3, 1, 3, 1, 2, 4, 5, 2, 3, 2, 4, 4, 4, 3, 3, 2, …\n",
      "$ BMI_cat         \u001b[3m\u001b[90m<int>\u001b[39m\u001b[23m 4, 2, 4, 2, 3, 1, 2, 3, 2, 2, 2, 4, 4, 3, 2, 3, 1, 2, …\n",
      "$ HEART           \u001b[3m\u001b[90m<int>\u001b[39m\u001b[23m 0, 0, 0, 0, 0, 1, 0, 0, 0, 0, 0, 0, 1, 0, 1, 0, 0, 0, …\n",
      "$ LUNG            \u001b[3m\u001b[90m<int>\u001b[39m\u001b[23m 0, 0, 1, 0, 0, 0, 0, 0, 1, 0, 0, 0, 1, 0, 0, 1, 0, 0, …\n",
      "$ KIDNEY          \u001b[3m\u001b[90m<int>\u001b[39m\u001b[23m 0, 0, 0, 0, 0, 0, 0, 0, 1, 0, 0, 0, 0, 1, 0, 0, 0, 0, …\n",
      "$ DIABETES        \u001b[3m\u001b[90m<int>\u001b[39m\u001b[23m 0, 0, 0, 0, 1, 0, 1, 1, 0, 0, 0, 1, 1, 0, 0, 0, 0, 0, …\n",
      "$ HTN             \u001b[3m\u001b[90m<int>\u001b[39m\u001b[23m 0, 0, 0, 0, 1, 0, 0, 1, 1, 0, 0, 0, 1, 1, 1, 1, 1, 0, …\n",
      "$ IMMUNO          \u001b[3m\u001b[90m<int>\u001b[39m\u001b[23m 0, 0, 0, 0, 0, 0, 0, 1, 0, 0, 0, 0, 0, 1, 1, 1, 0, 0, …\n",
      "$ Resp_Symp       \u001b[3m\u001b[90m<int>\u001b[39m\u001b[23m 1, 1, 1, 1, 1, 1, 1, 1, 1, 1, 1, 1, 1, 1, 1, 0, 1, 1, …\n",
      "$ Fever_Sympt     \u001b[3m\u001b[90m<int>\u001b[39m\u001b[23m 1, 1, 0, 1, 1, 0, 1, 1, 0, 1, 1, 1, 0, 1, 1, 0, 1, 1, …\n",
      "$ GI_Symp         \u001b[3m\u001b[90m<int>\u001b[39m\u001b[23m 1, 1, 1, 0, 1, 0, 0, 1, 1, 0, 1, 0, 1, 1, 0, 0, 0, 1, …\n",
      "$ D0_draw         \u001b[3m\u001b[90m<int>\u001b[39m\u001b[23m 1, 1, 1, 1, 1, 1, 1, 1, 1, 1, 1, 1, 1, 1, 1, 1, 1, 1, …\n",
      "$ D3_draw         \u001b[3m\u001b[90m<int>\u001b[39m\u001b[23m 1, 1, 1, 1, 1, 1, 1, 0, 1, 0, 0, 1, 1, 1, 1, 0, 1, 1, …\n",
      "$ D7_draw         \u001b[3m\u001b[90m<int>\u001b[39m\u001b[23m 0, 0, 0, 0, 1, 1, 0, 0, 0, 0, 0, 1, 0, 1, 1, 0, 0, 0, …\n",
      "$ DE_draw         \u001b[3m\u001b[90m<int>\u001b[39m\u001b[23m 0, 0, 0, 0, 0, 0, 0, 0, 0, 0, 0, 1, 0, 0, 1, 0, 0, 0, …\n",
      "$ Acuity_0        \u001b[3m\u001b[90m<int>\u001b[39m\u001b[23m 3, 3, 3, 3, 3, 3, 3, 3, 3, 4, 5, 2, 3, 3, 2, 2, 4, 4, …\n",
      "$ Acuity_3        \u001b[3m\u001b[90m<int>\u001b[39m\u001b[23m 4, 3, 3, 3, 3, 3, 3, 3, 3, 4, 5, 2, 3, 2, 2, 2, 4, 4, …\n",
      "$ Acuity_7        \u001b[3m\u001b[90m<int>\u001b[39m\u001b[23m 5, 5, 5, 5, 3, 3, 5, 5, 5, 5, 5, 2, 5, 2, 2, 3, 5, 5, …\n",
      "$ Acuity_28       \u001b[3m\u001b[90m<int>\u001b[39m\u001b[23m 5, 5, 5, 5, 5, 5, 5, 5, 5, 5, 5, 5, 5, 2, 1, 5, 5, 5, …\n",
      "$ Acuity_max      \u001b[3m\u001b[90m<int>\u001b[39m\u001b[23m 3, 3, 3, 3, 3, 3, 3, 3, 3, 4, 4, 2, 3, 2, 1, 2, 4, 4, …\n",
      "$ abs_neut_0_cat  \u001b[3m\u001b[90m<int>\u001b[39m\u001b[23m 3, 3, 3, 2, 3, 3, 3, 5, 3, 1, 3, 3, 2, 3, 5, 4, 3, 3, …\n",
      "$ abs_lymph_0_cat \u001b[3m\u001b[90m<int>\u001b[39m\u001b[23m 2, 3, 3, 2, 5, 2, 2, 1, 2, 3, 3, 2, 3, 1, 1, 4, 3, 4, …\n",
      "$ abs_mono_0_cat  \u001b[3m\u001b[90m<int>\u001b[39m\u001b[23m 2, 3, 2, 2, 3, 1, 3, 4, 3, 2, 2, 2, 3, 2, 5, 3, 2, 1, …\n",
      "$ creat_0_cat     \u001b[3m\u001b[90m<int>\u001b[39m\u001b[23m 2, 2, 2, 2, 2, 2, 2, 2, 5, 1, 2, 1, 2, 4, 2, 3, 2, 1, …\n",
      "$ crp_0_cat       \u001b[3m\u001b[90m<int>\u001b[39m\u001b[23m 1, 3, 4, 1, 4, 3, 5, 2, 3, 1, NA, 5, 1, 4, 5, 1, 3, 2,…\n",
      "$ ddimer_0_cat    \u001b[3m\u001b[90m<int>\u001b[39m\u001b[23m 1, 2, 3, 2, 3, 3, 3, 3, 4, 1, NA, 2, 3, 3, 3, 4, 2, 2,…\n",
      "$ ldh_0_cat       \u001b[3m\u001b[90m<int>\u001b[39m\u001b[23m 2, 2, 4, 2, 3, 4, 3, 2, 5, 2, NA, 5, 2, 2, 3, 5, 4, 3,…\n",
      "$ Trop_72h        \u001b[3m\u001b[90m<int>\u001b[39m\u001b[23m 0, 0, 0, 0, 0, 0, 0, 0, 1, 0, 0, 0, 0, 0, 0, 1, 0, 0, …\n",
      "$ abs_neut_3_cat  \u001b[3m\u001b[90m<int>\u001b[39m\u001b[23m 2, 2, 3, 3, 3, 3, 3, 3, 2, 2, NA, 4, 2, 2, 5, 3, 3, 2,…\n",
      "$ abs_lymph_3_cat \u001b[3m\u001b[90m<int>\u001b[39m\u001b[23m 4, 4, 4, 4, 5, 4, 2, 3, 2, 3, NA, 1, 4, 2, 2, 1, 3, 4,…\n",
      "$ abs_mono_3_cat  \u001b[3m\u001b[90m<int>\u001b[39m\u001b[23m 2, 3, 3, 2, 2, 1, 2, 3, 2, 2, NA, 2, 3, 2, 2, 2, 3, 3,…\n",
      "$ creat_3_cat     \u001b[3m\u001b[90m<int>\u001b[39m\u001b[23m 1, 1, 2, 1, 1, 1, 2, 2, 3, 1, NA, 3, 1, 4, 1, 2, 1, 1,…\n",
      "$ crp_3_cat       \u001b[3m\u001b[90m<int>\u001b[39m\u001b[23m 1, 2, 3, 2, 5, 4, 4, 3, 3, NA, NA, 4, NA, 4, 3, NA, 3,…\n",
      "$ ddimer_3_cat    \u001b[3m\u001b[90m<int>\u001b[39m\u001b[23m 1, NA, 2, 2, 3, 3, 3, 2, 3, NA, NA, 4, NA, 2, 3, NA, 3…\n",
      "$ ldh_3_cat       \u001b[3m\u001b[90m<int>\u001b[39m\u001b[23m 1, NA, 3, 3, NA, 5, 3, 1, 2, NA, NA, 4, NA, 2, 2, NA, …\n",
      "$ abs_neut_7_cat  \u001b[3m\u001b[90m<int>\u001b[39m\u001b[23m NA, NA, NA, NA, 3, 3, NA, NA, NA, NA, NA, 3, NA, 2, 5,…\n",
      "$ abs_lymph_7_cat \u001b[3m\u001b[90m<int>\u001b[39m\u001b[23m NA, NA, NA, NA, 5, 3, NA, NA, NA, NA, NA, 3, NA, 1, 2,…\n",
      "$ abs_mono_7_cat  \u001b[3m\u001b[90m<int>\u001b[39m\u001b[23m NA, NA, NA, NA, 3, 2, NA, NA, NA, NA, NA, 3, NA, 2, 5,…\n",
      "$ creat_7_cat     \u001b[3m\u001b[90m<int>\u001b[39m\u001b[23m NA, NA, NA, NA, 1, 1, NA, NA, NA, NA, NA, 3, NA, 4, 1,…\n",
      "$ crp_7_cat       \u001b[3m\u001b[90m<int>\u001b[39m\u001b[23m NA, NA, NA, NA, 4, 4, NA, NA, NA, NA, NA, NA, NA, 1, N…\n",
      "$ ddimer_7_cat    \u001b[3m\u001b[90m<int>\u001b[39m\u001b[23m NA, NA, NA, NA, 4, 5, NA, NA, NA, NA, NA, 4, NA, 2, 4,…\n",
      "$ ldh_7_cat       \u001b[3m\u001b[90m<int>\u001b[39m\u001b[23m NA, NA, NA, NA, 3, 5, NA, NA, NA, NA, NA, 3, NA, 3, NA…\n"
     ]
    }
   ],
   "source": [
    "patient_df <- read.delim(\"/Users/jennylee/Downloads/MGH_Olink_COVID_Apr_27_2021/MGH_COVID_Clinical_Info.txt\", header=TRUE, sep=\";\")\n",
    "head(patient_df)\n",
    "print(paste0(\"This dataframe has \", nrow(patient_df), \" rows in total.\"))\n",
    "glimpse(patient_df)"
   ]
  },
  {
   "cell_type": "code",
   "execution_count": 3,
   "metadata": {
    "tags": [
     "hide-input"
    ],
    "vscode": {
     "languageId": "r"
    }
   },
   "outputs": [
    {
     "data": {
      "text/html": [
       "<table class=\"dataframe\">\n",
       "<caption>A data.frame: 6 × 16</caption>\n",
       "<thead>\n",
       "\t<tr><th></th><th scope=col>SampleID</th><th scope=col>subject_id</th><th scope=col>Timepoint</th><th scope=col>Index</th><th scope=col>OlinkID</th><th scope=col>UniProt</th><th scope=col>Assay</th><th scope=col>MissingFreq</th><th scope=col>Panel</th><th scope=col>Panel_Lot_Nr</th><th scope=col>PlateID</th><th scope=col>QC_Warning</th><th scope=col>Assay_Warning</th><th scope=col>Normalization</th><th scope=col>LOD</th><th scope=col>NPX</th></tr>\n",
       "\t<tr><th></th><th scope=col>&lt;chr&gt;</th><th scope=col>&lt;int&gt;</th><th scope=col>&lt;chr&gt;</th><th scope=col>&lt;int&gt;</th><th scope=col>&lt;chr&gt;</th><th scope=col>&lt;chr&gt;</th><th scope=col>&lt;chr&gt;</th><th scope=col>&lt;dbl&gt;</th><th scope=col>&lt;chr&gt;</th><th scope=col>&lt;chr&gt;</th><th scope=col>&lt;chr&gt;</th><th scope=col>&lt;chr&gt;</th><th scope=col>&lt;chr&gt;</th><th scope=col>&lt;chr&gt;</th><th scope=col>&lt;dbl&gt;</th><th scope=col>&lt;dbl&gt;</th></tr>\n",
       "</thead>\n",
       "<tbody>\n",
       "\t<tr><th scope=row>1</th><td>1_D0</td><td>1</td><td>D0</td><td>56</td><td>OID21311</td><td>Q9BTE6</td><td>AARSD1 </td><td>0.0000</td><td>Oncology       </td><td>B04404</td><td>20200772_Plate5</td><td>PASS</td><td>PASS</td><td>Intensity</td><td>-1.0810</td><td> 1.9024</td></tr>\n",
       "\t<tr><th scope=row>2</th><td>1_D0</td><td>1</td><td>D0</td><td>56</td><td>OID20921</td><td>Q96IU4</td><td>ABHD14B</td><td>0.0000</td><td>Neurology      </td><td>B04406</td><td>20200772_Plate5</td><td>PASS</td><td>PASS</td><td>Intensity</td><td>-1.4574</td><td>-0.2625</td></tr>\n",
       "\t<tr><th scope=row>3</th><td>1_D0</td><td>1</td><td>D0</td><td>56</td><td>OID21280</td><td>P00519</td><td>ABL1   </td><td>0.0013</td><td>Oncology       </td><td>B04404</td><td>20200772_Plate5</td><td>PASS</td><td>PASS</td><td>Intensity</td><td>-2.4697</td><td> 0.2659</td></tr>\n",
       "\t<tr><th scope=row>4</th><td>1_D0</td><td>1</td><td>D0</td><td>56</td><td>OID21269</td><td>P09110</td><td>ACAA1  </td><td>0.1248</td><td>Oncology       </td><td>B04404</td><td>20200772_Plate5</td><td>PASS</td><td>PASS</td><td>Intensity</td><td>-0.2027</td><td> 0.5311</td></tr>\n",
       "\t<tr><th scope=row>5</th><td>1_D0</td><td>1</td><td>D0</td><td>56</td><td>OID20159</td><td>P16112</td><td>ACAN   </td><td>0.0000</td><td>Cardiometabolic</td><td>B04405</td><td>20200772_Plate5</td><td>PASS</td><td>PASS</td><td>Intensity</td><td>-3.3481</td><td>-2.0366</td></tr>\n",
       "\t<tr><th scope=row>6</th><td>1_D0</td><td>1</td><td>D0</td><td>56</td><td>OID20105</td><td>Q9BYF1</td><td>ACE2   </td><td>0.0561</td><td>Cardiometabolic</td><td>B04405</td><td>20200772_Plate5</td><td>PASS</td><td>PASS</td><td>Intensity</td><td>-1.9055</td><td>-1.4261</td></tr>\n",
       "</tbody>\n",
       "</table>\n"
      ],
      "text/latex": [
       "A data.frame: 6 × 16\n",
       "\\begin{tabular}{r|llllllllllllllll}\n",
       "  & SampleID & subject\\_id & Timepoint & Index & OlinkID & UniProt & Assay & MissingFreq & Panel & Panel\\_Lot\\_Nr & PlateID & QC\\_Warning & Assay\\_Warning & Normalization & LOD & NPX\\\\\n",
       "  & <chr> & <int> & <chr> & <int> & <chr> & <chr> & <chr> & <dbl> & <chr> & <chr> & <chr> & <chr> & <chr> & <chr> & <dbl> & <dbl>\\\\\n",
       "\\hline\n",
       "\t1 & 1\\_D0 & 1 & D0 & 56 & OID21311 & Q9BTE6 & AARSD1  & 0.0000 & Oncology        & B04404 & 20200772\\_Plate5 & PASS & PASS & Intensity & -1.0810 &  1.9024\\\\\n",
       "\t2 & 1\\_D0 & 1 & D0 & 56 & OID20921 & Q96IU4 & ABHD14B & 0.0000 & Neurology       & B04406 & 20200772\\_Plate5 & PASS & PASS & Intensity & -1.4574 & -0.2625\\\\\n",
       "\t3 & 1\\_D0 & 1 & D0 & 56 & OID21280 & P00519 & ABL1    & 0.0013 & Oncology        & B04404 & 20200772\\_Plate5 & PASS & PASS & Intensity & -2.4697 &  0.2659\\\\\n",
       "\t4 & 1\\_D0 & 1 & D0 & 56 & OID21269 & P09110 & ACAA1   & 0.1248 & Oncology        & B04404 & 20200772\\_Plate5 & PASS & PASS & Intensity & -0.2027 &  0.5311\\\\\n",
       "\t5 & 1\\_D0 & 1 & D0 & 56 & OID20159 & P16112 & ACAN    & 0.0000 & Cardiometabolic & B04405 & 20200772\\_Plate5 & PASS & PASS & Intensity & -3.3481 & -2.0366\\\\\n",
       "\t6 & 1\\_D0 & 1 & D0 & 56 & OID20105 & Q9BYF1 & ACE2    & 0.0561 & Cardiometabolic & B04405 & 20200772\\_Plate5 & PASS & PASS & Intensity & -1.9055 & -1.4261\\\\\n",
       "\\end{tabular}\n"
      ],
      "text/markdown": [
       "\n",
       "A data.frame: 6 × 16\n",
       "\n",
       "| <!--/--> | SampleID &lt;chr&gt; | subject_id &lt;int&gt; | Timepoint &lt;chr&gt; | Index &lt;int&gt; | OlinkID &lt;chr&gt; | UniProt &lt;chr&gt; | Assay &lt;chr&gt; | MissingFreq &lt;dbl&gt; | Panel &lt;chr&gt; | Panel_Lot_Nr &lt;chr&gt; | PlateID &lt;chr&gt; | QC_Warning &lt;chr&gt; | Assay_Warning &lt;chr&gt; | Normalization &lt;chr&gt; | LOD &lt;dbl&gt; | NPX &lt;dbl&gt; |\n",
       "|---|---|---|---|---|---|---|---|---|---|---|---|---|---|---|---|---|\n",
       "| 1 | 1_D0 | 1 | D0 | 56 | OID21311 | Q9BTE6 | AARSD1  | 0.0000 | Oncology        | B04404 | 20200772_Plate5 | PASS | PASS | Intensity | -1.0810 |  1.9024 |\n",
       "| 2 | 1_D0 | 1 | D0 | 56 | OID20921 | Q96IU4 | ABHD14B | 0.0000 | Neurology       | B04406 | 20200772_Plate5 | PASS | PASS | Intensity | -1.4574 | -0.2625 |\n",
       "| 3 | 1_D0 | 1 | D0 | 56 | OID21280 | P00519 | ABL1    | 0.0013 | Oncology        | B04404 | 20200772_Plate5 | PASS | PASS | Intensity | -2.4697 |  0.2659 |\n",
       "| 4 | 1_D0 | 1 | D0 | 56 | OID21269 | P09110 | ACAA1   | 0.1248 | Oncology        | B04404 | 20200772_Plate5 | PASS | PASS | Intensity | -0.2027 |  0.5311 |\n",
       "| 5 | 1_D0 | 1 | D0 | 56 | OID20159 | P16112 | ACAN    | 0.0000 | Cardiometabolic | B04405 | 20200772_Plate5 | PASS | PASS | Intensity | -3.3481 | -2.0366 |\n",
       "| 6 | 1_D0 | 1 | D0 | 56 | OID20105 | Q9BYF1 | ACE2    | 0.0561 | Cardiometabolic | B04405 | 20200772_Plate5 | PASS | PASS | Intensity | -1.9055 | -1.4261 |\n",
       "\n"
      ],
      "text/plain": [
       "  SampleID subject_id Timepoint Index OlinkID  UniProt Assay   MissingFreq\n",
       "1 1_D0     1          D0        56    OID21311 Q9BTE6  AARSD1  0.0000     \n",
       "2 1_D0     1          D0        56    OID20921 Q96IU4  ABHD14B 0.0000     \n",
       "3 1_D0     1          D0        56    OID21280 P00519  ABL1    0.0013     \n",
       "4 1_D0     1          D0        56    OID21269 P09110  ACAA1   0.1248     \n",
       "5 1_D0     1          D0        56    OID20159 P16112  ACAN    0.0000     \n",
       "6 1_D0     1          D0        56    OID20105 Q9BYF1  ACE2    0.0561     \n",
       "  Panel           Panel_Lot_Nr PlateID         QC_Warning Assay_Warning\n",
       "1 Oncology        B04404       20200772_Plate5 PASS       PASS         \n",
       "2 Neurology       B04406       20200772_Plate5 PASS       PASS         \n",
       "3 Oncology        B04404       20200772_Plate5 PASS       PASS         \n",
       "4 Oncology        B04404       20200772_Plate5 PASS       PASS         \n",
       "5 Cardiometabolic B04405       20200772_Plate5 PASS       PASS         \n",
       "6 Cardiometabolic B04405       20200772_Plate5 PASS       PASS         \n",
       "  Normalization LOD     NPX    \n",
       "1 Intensity     -1.0810  1.9024\n",
       "2 Intensity     -1.4574 -0.2625\n",
       "3 Intensity     -2.4697  0.2659\n",
       "4 Intensity     -0.2027  0.5311\n",
       "5 Intensity     -3.3481 -2.0366\n",
       "6 Intensity     -1.9055 -1.4261"
      ]
     },
     "metadata": {},
     "output_type": "display_data"
    },
    {
     "name": "stdout",
     "output_type": "stream",
     "text": [
      "[1] \"This dataframe has 1271808 rows in total.\"\n"
     ]
    },
    {
     "name": "stdout",
     "output_type": "stream",
     "text": [
      "Rows: 1,271,808\n",
      "Columns: 16\n",
      "$ SampleID      \u001b[3m\u001b[90m<chr>\u001b[39m\u001b[23m \"1_D0\", \"1_D0\", \"1_D0\", \"1_D0\", \"1_D0\", \"1_D0\", \"1_D0\", …\n",
      "$ subject_id    \u001b[3m\u001b[90m<int>\u001b[39m\u001b[23m 1, 1, 1, 1, 1, 1, 1, 1, 1, 1, 1, 1, 1, 1, 1, 1, 1, 1, 1,…\n",
      "$ Timepoint     \u001b[3m\u001b[90m<chr>\u001b[39m\u001b[23m \"D0\", \"D0\", \"D0\", \"D0\", \"D0\", \"D0\", \"D0\", \"D0\", \"D0\", \"D…\n",
      "$ Index         \u001b[3m\u001b[90m<int>\u001b[39m\u001b[23m 56, 56, 56, 56, 56, 56, 56, 56, 56, 56, 56, 56, 56, 56, …\n",
      "$ OlinkID       \u001b[3m\u001b[90m<chr>\u001b[39m\u001b[23m \"OID21311\", \"OID20921\", \"OID21280\", \"OID21269\", \"OID2015…\n",
      "$ UniProt       \u001b[3m\u001b[90m<chr>\u001b[39m\u001b[23m \"Q9BTE6\", \"Q96IU4\", \"P00519\", \"P09110\", \"P16112\", \"Q9BYF…\n",
      "$ Assay         \u001b[3m\u001b[90m<chr>\u001b[39m\u001b[23m \"AARSD1\", \"ABHD14B\", \"ABL1\", \"ACAA1\", \"ACAN\", \"ACE2\", \"A…\n",
      "$ MissingFreq   \u001b[3m\u001b[90m<dbl>\u001b[39m\u001b[23m 0.0000, 0.0000, 0.0013, 0.1248, 0.0000, 0.0561, 0.8127, …\n",
      "$ Panel         \u001b[3m\u001b[90m<chr>\u001b[39m\u001b[23m \"Oncology\", \"Neurology\", \"Oncology\", \"Oncology\", \"Cardio…\n",
      "$ Panel_Lot_Nr  \u001b[3m\u001b[90m<chr>\u001b[39m\u001b[23m \"B04404\", \"B04406\", \"B04404\", \"B04404\", \"B04405\", \"B0440…\n",
      "$ PlateID       \u001b[3m\u001b[90m<chr>\u001b[39m\u001b[23m \"20200772_Plate5\", \"20200772_Plate5\", \"20200772_Plate5\",…\n",
      "$ QC_Warning    \u001b[3m\u001b[90m<chr>\u001b[39m\u001b[23m \"PASS\", \"PASS\", \"PASS\", \"PASS\", \"PASS\", \"PASS\", \"PASS\", …\n",
      "$ Assay_Warning \u001b[3m\u001b[90m<chr>\u001b[39m\u001b[23m \"PASS\", \"PASS\", \"PASS\", \"PASS\", \"PASS\", \"PASS\", \"PASS\", …\n",
      "$ Normalization \u001b[3m\u001b[90m<chr>\u001b[39m\u001b[23m \"Intensity\", \"Intensity\", \"Intensity\", \"Intensity\", \"Int…\n",
      "$ LOD           \u001b[3m\u001b[90m<dbl>\u001b[39m\u001b[23m -1.0810, -1.4574, -2.4697, -0.2027, -3.3481, -1.9055, 0.…\n",
      "$ NPX           \u001b[3m\u001b[90m<dbl>\u001b[39m\u001b[23m 1.9024, -0.2625, 0.2659, 0.5311, -2.0366, -1.4261, -0.24…\n"
     ]
    }
   ],
   "source": [
    "patient_df <- read.delim(\"/Users/jennylee/Downloads/MGH_Olink_COVID_Apr_27_2021/MGH_COVID_OLINK_NPX.txt\", header=TRUE, sep=\";\")\n",
    "head(patient_df)\n",
    "print(paste0(\"This dataframe has \", nrow(patient_df), \" rows in total.\"))\n",
    "glimpse(patient_df)"
   ]
  }
 ],
 "metadata": {
  "kernelspec": {
   "display_name": "R",
   "language": "R",
   "name": "ir"
  },
  "language_info": {
   "codemirror_mode": "r",
   "file_extension": ".r",
   "mimetype": "text/x-r-source",
   "name": "R",
   "pygments_lexer": "r",
   "version": "4.3.2"
  }
 },
 "nbformat": 4,
 "nbformat_minor": 2
}