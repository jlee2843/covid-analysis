{
 "cells": [
  {
   "cell_type": "code",
   "execution_count": 2,
   "metadata": {
    "tags": [
     "remove-cell"
    ],
    "vscode": {
     "languageId": "r"
    }
   },
   "outputs": [
    {
     "name": "stderr",
     "output_type": "stream",
     "text": [
      "-- \u001b[1mAttaching core tidyverse packages\u001b[22m ------------------------ tidyverse 2.0.0 --\n",
      "\u001b[32mv\u001b[39m \u001b[34mdplyr    \u001b[39m 1.1.4     \u001b[32mv\u001b[39m \u001b[34mreadr    \u001b[39m 2.1.5\n",
      "\u001b[32mv\u001b[39m \u001b[34mforcats  \u001b[39m 1.0.0     \u001b[32mv\u001b[39m \u001b[34mstringr  \u001b[39m 1.5.1\n",
      "\u001b[32mv\u001b[39m \u001b[34mggplot2  \u001b[39m 3.5.1     \u001b[32mv\u001b[39m \u001b[34mtibble   \u001b[39m 3.2.1\n",
      "\u001b[32mv\u001b[39m \u001b[34mlubridate\u001b[39m 1.9.3     \u001b[32mv\u001b[39m \u001b[34mtidyr    \u001b[39m 1.3.1\n",
      "\u001b[32mv\u001b[39m \u001b[34mpurrr    \u001b[39m 1.0.2     \n",
      "-- \u001b[1mConflicts\u001b[22m ------------------------------------------ tidyverse_conflicts() --\n",
      "\u001b[31mx\u001b[39m \u001b[34mdplyr\u001b[39m::\u001b[32mfilter()\u001b[39m masks \u001b[34mstats\u001b[39m::filter()\n",
      "\u001b[31mx\u001b[39m \u001b[34mdplyr\u001b[39m::\u001b[32mlag()\u001b[39m    masks \u001b[34mstats\u001b[39m::lag()\n",
      "\u001b[31mx\u001b[39m \u001b[34mdplyr\u001b[39m::\u001b[32mrecode()\u001b[39m masks \u001b[34mcar\u001b[39m::recode()\n",
      "\u001b[31mx\u001b[39m \u001b[34mpurrr\u001b[39m::\u001b[32msome()\u001b[39m   masks \u001b[34mcar\u001b[39m::some()\n",
      "\u001b[36mi\u001b[39m Use the conflicted package (\u001b[3m\u001b[34m<http://conflicted.r-lib.org/>\u001b[39m\u001b[23m) to force all conflicts to become errors\n",
      "Loading required package: Matrix\n",
      "\n",
      "\n",
      "Attaching package: 'Matrix'\n",
      "\n",
      "\n",
      "The following objects are masked from 'package:tidyr':\n",
      "\n",
      "    expand, pack, unpack\n",
      "\n",
      "\n"
     ]
    }
   ],
   "source": [
    "library(tidyverse)\n",
    "library(dplyr)\n",
    "library(readxl)\n",
    "library(ggpubr)\n",
    "library(lme4)\n",
    "library(ggplot2)\n",
    "library(broom)\n",
    "library(purrr)"
   ]
  },
  {
   "cell_type": "markdown",
   "metadata": {},
   "source": [
    "# Preliminary Data Analysis"
   ]
  },
  {
   "cell_type": "markdown",
   "metadata": {},
   "source": [
    "## 1. Load Data"
   ]
  },
  {
   "cell_type": "code",
   "execution_count": 7,
   "metadata": {
    "tags": [
     "hide-input"
    ],
    "vscode": {
     "languageId": "r"
    }
   },
   "outputs": [
    {
     "data": {
      "text/html": [
       "<table class=\"dataframe\">\n",
       "<caption>A data.frame: 6 x 44</caption>\n",
       "<thead>\n",
       "\t<tr><th></th><th scope=col>subject_id</th><th scope=col>COVID</th><th scope=col>Age_cat</th><th scope=col>BMI_cat</th><th scope=col>HEART</th><th scope=col>LUNG</th><th scope=col>KIDNEY</th><th scope=col>DIABETES</th><th scope=col>HTN</th><th scope=col>IMMUNO</th><th scope=col>...</th><th scope=col>crp_3_cat</th><th scope=col>ddimer_3_cat</th><th scope=col>ldh_3_cat</th><th scope=col>abs_neut_7_cat</th><th scope=col>abs_lymph_7_cat</th><th scope=col>abs_mono_7_cat</th><th scope=col>creat_7_cat</th><th scope=col>crp_7_cat</th><th scope=col>ddimer_7_cat</th><th scope=col>ldh_7_cat</th></tr>\n",
       "\t<tr><th></th><th scope=col>&lt;int&gt;</th><th scope=col>&lt;int&gt;</th><th scope=col>&lt;int&gt;</th><th scope=col>&lt;int&gt;</th><th scope=col>&lt;int&gt;</th><th scope=col>&lt;int&gt;</th><th scope=col>&lt;int&gt;</th><th scope=col>&lt;int&gt;</th><th scope=col>&lt;int&gt;</th><th scope=col>&lt;int&gt;</th><th scope=col>...</th><th scope=col>&lt;int&gt;</th><th scope=col>&lt;int&gt;</th><th scope=col>&lt;int&gt;</th><th scope=col>&lt;int&gt;</th><th scope=col>&lt;int&gt;</th><th scope=col>&lt;int&gt;</th><th scope=col>&lt;int&gt;</th><th scope=col>&lt;int&gt;</th><th scope=col>&lt;int&gt;</th><th scope=col>&lt;int&gt;</th></tr>\n",
       "</thead>\n",
       "<tbody>\n",
       "\t<tr><th scope=row>1</th><td>1</td><td>1</td><td>1</td><td>4</td><td>0</td><td>0</td><td>0</td><td>0</td><td>0</td><td>0</td><td>...</td><td>1</td><td> 1</td><td> 1</td><td>NA</td><td>NA</td><td>NA</td><td>NA</td><td>NA</td><td>NA</td><td>NA</td></tr>\n",
       "\t<tr><th scope=row>2</th><td>2</td><td>1</td><td>2</td><td>2</td><td>0</td><td>0</td><td>0</td><td>0</td><td>0</td><td>0</td><td>...</td><td>2</td><td>NA</td><td>NA</td><td>NA</td><td>NA</td><td>NA</td><td>NA</td><td>NA</td><td>NA</td><td>NA</td></tr>\n",
       "\t<tr><th scope=row>3</th><td>3</td><td>1</td><td>3</td><td>4</td><td>0</td><td>1</td><td>0</td><td>0</td><td>0</td><td>0</td><td>...</td><td>3</td><td> 2</td><td> 3</td><td>NA</td><td>NA</td><td>NA</td><td>NA</td><td>NA</td><td>NA</td><td>NA</td></tr>\n",
       "\t<tr><th scope=row>4</th><td>4</td><td>1</td><td>1</td><td>2</td><td>0</td><td>0</td><td>0</td><td>0</td><td>0</td><td>0</td><td>...</td><td>2</td><td> 2</td><td> 3</td><td>NA</td><td>NA</td><td>NA</td><td>NA</td><td>NA</td><td>NA</td><td>NA</td></tr>\n",
       "\t<tr><th scope=row>5</th><td>5</td><td>1</td><td>3</td><td>3</td><td>0</td><td>0</td><td>0</td><td>1</td><td>1</td><td>0</td><td>...</td><td>5</td><td> 3</td><td>NA</td><td> 3</td><td> 5</td><td> 3</td><td> 1</td><td> 4</td><td> 4</td><td> 3</td></tr>\n",
       "\t<tr><th scope=row>6</th><td>6</td><td>1</td><td>1</td><td>1</td><td>1</td><td>0</td><td>0</td><td>0</td><td>0</td><td>0</td><td>...</td><td>4</td><td> 3</td><td> 5</td><td> 3</td><td> 3</td><td> 2</td><td> 1</td><td> 4</td><td> 5</td><td> 5</td></tr>\n",
       "</tbody>\n",
       "</table>\n"
      ],
      "text/latex": [
       "A data.frame: 6 x 44\n",
       "\\begin{tabular}{r|lllllllllllllllllllll}\n",
       "  & subject\\_id & COVID & Age\\_cat & BMI\\_cat & HEART & LUNG & KIDNEY & DIABETES & HTN & IMMUNO & ... & crp\\_3\\_cat & ddimer\\_3\\_cat & ldh\\_3\\_cat & abs\\_neut\\_7\\_cat & abs\\_lymph\\_7\\_cat & abs\\_mono\\_7\\_cat & creat\\_7\\_cat & crp\\_7\\_cat & ddimer\\_7\\_cat & ldh\\_7\\_cat\\\\\n",
       "  & <int> & <int> & <int> & <int> & <int> & <int> & <int> & <int> & <int> & <int> & ... & <int> & <int> & <int> & <int> & <int> & <int> & <int> & <int> & <int> & <int>\\\\\n",
       "\\hline\n",
       "\t1 & 1 & 1 & 1 & 4 & 0 & 0 & 0 & 0 & 0 & 0 & ... & 1 &  1 &  1 & NA & NA & NA & NA & NA & NA & NA\\\\\n",
       "\t2 & 2 & 1 & 2 & 2 & 0 & 0 & 0 & 0 & 0 & 0 & ... & 2 & NA & NA & NA & NA & NA & NA & NA & NA & NA\\\\\n",
       "\t3 & 3 & 1 & 3 & 4 & 0 & 1 & 0 & 0 & 0 & 0 & ... & 3 &  2 &  3 & NA & NA & NA & NA & NA & NA & NA\\\\\n",
       "\t4 & 4 & 1 & 1 & 2 & 0 & 0 & 0 & 0 & 0 & 0 & ... & 2 &  2 &  3 & NA & NA & NA & NA & NA & NA & NA\\\\\n",
       "\t5 & 5 & 1 & 3 & 3 & 0 & 0 & 0 & 1 & 1 & 0 & ... & 5 &  3 & NA &  3 &  5 &  3 &  1 &  4 &  4 &  3\\\\\n",
       "\t6 & 6 & 1 & 1 & 1 & 1 & 0 & 0 & 0 & 0 & 0 & ... & 4 &  3 &  5 &  3 &  3 &  2 &  1 &  4 &  5 &  5\\\\\n",
       "\\end{tabular}\n"
      ],
      "text/markdown": [
       "\n",
       "A data.frame: 6 x 44\n",
       "\n",
       "| <!--/--> | subject_id &lt;int&gt; | COVID &lt;int&gt; | Age_cat &lt;int&gt; | BMI_cat &lt;int&gt; | HEART &lt;int&gt; | LUNG &lt;int&gt; | KIDNEY &lt;int&gt; | DIABETES &lt;int&gt; | HTN &lt;int&gt; | IMMUNO &lt;int&gt; | ... ... | crp_3_cat &lt;int&gt; | ddimer_3_cat &lt;int&gt; | ldh_3_cat &lt;int&gt; | abs_neut_7_cat &lt;int&gt; | abs_lymph_7_cat &lt;int&gt; | abs_mono_7_cat &lt;int&gt; | creat_7_cat &lt;int&gt; | crp_7_cat &lt;int&gt; | ddimer_7_cat &lt;int&gt; | ldh_7_cat &lt;int&gt; |\n",
       "|---|---|---|---|---|---|---|---|---|---|---|---|---|---|---|---|---|---|---|---|---|---|\n",
       "| 1 | 1 | 1 | 1 | 4 | 0 | 0 | 0 | 0 | 0 | 0 | ... | 1 |  1 |  1 | NA | NA | NA | NA | NA | NA | NA |\n",
       "| 2 | 2 | 1 | 2 | 2 | 0 | 0 | 0 | 0 | 0 | 0 | ... | 2 | NA | NA | NA | NA | NA | NA | NA | NA | NA |\n",
       "| 3 | 3 | 1 | 3 | 4 | 0 | 1 | 0 | 0 | 0 | 0 | ... | 3 |  2 |  3 | NA | NA | NA | NA | NA | NA | NA |\n",
       "| 4 | 4 | 1 | 1 | 2 | 0 | 0 | 0 | 0 | 0 | 0 | ... | 2 |  2 |  3 | NA | NA | NA | NA | NA | NA | NA |\n",
       "| 5 | 5 | 1 | 3 | 3 | 0 | 0 | 0 | 1 | 1 | 0 | ... | 5 |  3 | NA |  3 |  5 |  3 |  1 |  4 |  4 |  3 |\n",
       "| 6 | 6 | 1 | 1 | 1 | 1 | 0 | 0 | 0 | 0 | 0 | ... | 4 |  3 |  5 |  3 |  3 |  2 |  1 |  4 |  5 |  5 |\n",
       "\n"
      ],
      "text/plain": [
       "  subject_id COVID Age_cat BMI_cat HEART LUNG KIDNEY DIABETES HTN IMMUNO ...\n",
       "1 1          1     1       4       0     0    0      0        0   0      ...\n",
       "2 2          1     2       2       0     0    0      0        0   0      ...\n",
       "3 3          1     3       4       0     1    0      0        0   0      ...\n",
       "4 4          1     1       2       0     0    0      0        0   0      ...\n",
       "5 5          1     3       3       0     0    0      1        1   0      ...\n",
       "6 6          1     1       1       1     0    0      0        0   0      ...\n",
       "  crp_3_cat ddimer_3_cat ldh_3_cat abs_neut_7_cat abs_lymph_7_cat\n",
       "1 1          1            1        NA             NA             \n",
       "2 2         NA           NA        NA             NA             \n",
       "3 3          2            3        NA             NA             \n",
       "4 2          2            3        NA             NA             \n",
       "5 5          3           NA         3              5             \n",
       "6 4          3            5         3              3             \n",
       "  abs_mono_7_cat creat_7_cat crp_7_cat ddimer_7_cat ldh_7_cat\n",
       "1 NA             NA          NA        NA           NA       \n",
       "2 NA             NA          NA        NA           NA       \n",
       "3 NA             NA          NA        NA           NA       \n",
       "4 NA             NA          NA        NA           NA       \n",
       "5  3              1           4         4            3       \n",
       "6  2              1           4         5            5       "
      ]
     },
     "metadata": {},
     "output_type": "display_data"
    },
    {
     "name": "stdout",
     "output_type": "stream",
     "text": [
      "[1] \"This dataframe has 384 rows in total.\"\n",
      "Rows: 384\n",
      "Columns: 44\n",
      "$ subject_id      \u001b[3m\u001b[90m<int>\u001b[39m\u001b[23m 1, 2, 3, 4, 5, 6, 7, 8, 9, 10, 11, 12, 13, 14, 15, 16,~\n",
      "$ COVID           \u001b[3m\u001b[90m<int>\u001b[39m\u001b[23m 1, 1, 1, 1, 1, 1, 1, 0, 1, 0, 1, 1, 1, 1, 1, 0, 1, 1, ~\n",
      "$ Age_cat         \u001b[3m\u001b[90m<int>\u001b[39m\u001b[23m 1, 2, 3, 1, 3, 1, 2, 4, 5, 2, 3, 2, 4, 4, 4, 3, 3, 2, ~\n",
      "$ BMI_cat         \u001b[3m\u001b[90m<int>\u001b[39m\u001b[23m 4, 2, 4, 2, 3, 1, 2, 3, 2, 2, 2, 4, 4, 3, 2, 3, 1, 2, ~\n",
      "$ HEART           \u001b[3m\u001b[90m<int>\u001b[39m\u001b[23m 0, 0, 0, 0, 0, 1, 0, 0, 0, 0, 0, 0, 1, 0, 1, 0, 0, 0, ~\n",
      "$ LUNG            \u001b[3m\u001b[90m<int>\u001b[39m\u001b[23m 0, 0, 1, 0, 0, 0, 0, 0, 1, 0, 0, 0, 1, 0, 0, 1, 0, 0, ~\n",
      "$ KIDNEY          \u001b[3m\u001b[90m<int>\u001b[39m\u001b[23m 0, 0, 0, 0, 0, 0, 0, 0, 1, 0, 0, 0, 0, 1, 0, 0, 0, 0, ~\n",
      "$ DIABETES        \u001b[3m\u001b[90m<int>\u001b[39m\u001b[23m 0, 0, 0, 0, 1, 0, 1, 1, 0, 0, 0, 1, 1, 0, 0, 0, 0, 0, ~\n",
      "$ HTN             \u001b[3m\u001b[90m<int>\u001b[39m\u001b[23m 0, 0, 0, 0, 1, 0, 0, 1, 1, 0, 0, 0, 1, 1, 1, 1, 1, 0, ~\n",
      "$ IMMUNO          \u001b[3m\u001b[90m<int>\u001b[39m\u001b[23m 0, 0, 0, 0, 0, 0, 0, 1, 0, 0, 0, 0, 0, 1, 1, 1, 0, 0, ~\n",
      "$ Resp_Symp       \u001b[3m\u001b[90m<int>\u001b[39m\u001b[23m 1, 1, 1, 1, 1, 1, 1, 1, 1, 1, 1, 1, 1, 1, 1, 0, 1, 1, ~\n",
      "$ Fever_Sympt     \u001b[3m\u001b[90m<int>\u001b[39m\u001b[23m 1, 1, 0, 1, 1, 0, 1, 1, 0, 1, 1, 1, 0, 1, 1, 0, 1, 1, ~\n",
      "$ GI_Symp         \u001b[3m\u001b[90m<int>\u001b[39m\u001b[23m 1, 1, 1, 0, 1, 0, 0, 1, 1, 0, 1, 0, 1, 1, 0, 0, 0, 1, ~\n",
      "$ D0_draw         \u001b[3m\u001b[90m<int>\u001b[39m\u001b[23m 1, 1, 1, 1, 1, 1, 1, 1, 1, 1, 1, 1, 1, 1, 1, 1, 1, 1, ~\n",
      "$ D3_draw         \u001b[3m\u001b[90m<int>\u001b[39m\u001b[23m 1, 1, 1, 1, 1, 1, 1, 0, 1, 0, 0, 1, 1, 1, 1, 0, 1, 1, ~\n",
      "$ D7_draw         \u001b[3m\u001b[90m<int>\u001b[39m\u001b[23m 0, 0, 0, 0, 1, 1, 0, 0, 0, 0, 0, 1, 0, 1, 1, 0, 0, 0, ~\n",
      "$ DE_draw         \u001b[3m\u001b[90m<int>\u001b[39m\u001b[23m 0, 0, 0, 0, 0, 0, 0, 0, 0, 0, 0, 1, 0, 0, 1, 0, 0, 0, ~\n",
      "$ Acuity_0        \u001b[3m\u001b[90m<int>\u001b[39m\u001b[23m 3, 3, 3, 3, 3, 3, 3, 3, 3, 4, 5, 2, 3, 3, 2, 2, 4, 4, ~\n",
      "$ Acuity_3        \u001b[3m\u001b[90m<int>\u001b[39m\u001b[23m 4, 3, 3, 3, 3, 3, 3, 3, 3, 4, 5, 2, 3, 2, 2, 2, 4, 4, ~\n",
      "$ Acuity_7        \u001b[3m\u001b[90m<int>\u001b[39m\u001b[23m 5, 5, 5, 5, 3, 3, 5, 5, 5, 5, 5, 2, 5, 2, 2, 3, 5, 5, ~\n",
      "$ Acuity_28       \u001b[3m\u001b[90m<int>\u001b[39m\u001b[23m 5, 5, 5, 5, 5, 5, 5, 5, 5, 5, 5, 5, 5, 2, 1, 5, 5, 5, ~\n",
      "$ Acuity_max      \u001b[3m\u001b[90m<int>\u001b[39m\u001b[23m 3, 3, 3, 3, 3, 3, 3, 3, 3, 4, 4, 2, 3, 2, 1, 2, 4, 4, ~\n",
      "$ abs_neut_0_cat  \u001b[3m\u001b[90m<int>\u001b[39m\u001b[23m 3, 3, 3, 2, 3, 3, 3, 5, 3, 1, 3, 3, 2, 3, 5, 4, 3, 3, ~\n",
      "$ abs_lymph_0_cat \u001b[3m\u001b[90m<int>\u001b[39m\u001b[23m 2, 3, 3, 2, 5, 2, 2, 1, 2, 3, 3, 2, 3, 1, 1, 4, 3, 4, ~\n",
      "$ abs_mono_0_cat  \u001b[3m\u001b[90m<int>\u001b[39m\u001b[23m 2, 3, 2, 2, 3, 1, 3, 4, 3, 2, 2, 2, 3, 2, 5, 3, 2, 1, ~\n",
      "$ creat_0_cat     \u001b[3m\u001b[90m<int>\u001b[39m\u001b[23m 2, 2, 2, 2, 2, 2, 2, 2, 5, 1, 2, 1, 2, 4, 2, 3, 2, 1, ~\n",
      "$ crp_0_cat       \u001b[3m\u001b[90m<int>\u001b[39m\u001b[23m 1, 3, 4, 1, 4, 3, 5, 2, 3, 1, NA, 5, 1, 4, 5, 1, 3, 2,~\n",
      "$ ddimer_0_cat    \u001b[3m\u001b[90m<int>\u001b[39m\u001b[23m 1, 2, 3, 2, 3, 3, 3, 3, 4, 1, NA, 2, 3, 3, 3, 4, 2, 2,~\n",
      "$ ldh_0_cat       \u001b[3m\u001b[90m<int>\u001b[39m\u001b[23m 2, 2, 4, 2, 3, 4, 3, 2, 5, 2, NA, 5, 2, 2, 3, 5, 4, 3,~\n",
      "$ Trop_72h        \u001b[3m\u001b[90m<int>\u001b[39m\u001b[23m 0, 0, 0, 0, 0, 0, 0, 0, 1, 0, 0, 0, 0, 0, 0, 1, 0, 0, ~\n",
      "$ abs_neut_3_cat  \u001b[3m\u001b[90m<int>\u001b[39m\u001b[23m 2, 2, 3, 3, 3, 3, 3, 3, 2, 2, NA, 4, 2, 2, 5, 3, 3, 2,~\n",
      "$ abs_lymph_3_cat \u001b[3m\u001b[90m<int>\u001b[39m\u001b[23m 4, 4, 4, 4, 5, 4, 2, 3, 2, 3, NA, 1, 4, 2, 2, 1, 3, 4,~\n",
      "$ abs_mono_3_cat  \u001b[3m\u001b[90m<int>\u001b[39m\u001b[23m 2, 3, 3, 2, 2, 1, 2, 3, 2, 2, NA, 2, 3, 2, 2, 2, 3, 3,~\n",
      "$ creat_3_cat     \u001b[3m\u001b[90m<int>\u001b[39m\u001b[23m 1, 1, 2, 1, 1, 1, 2, 2, 3, 1, NA, 3, 1, 4, 1, 2, 1, 1,~\n",
      "$ crp_3_cat       \u001b[3m\u001b[90m<int>\u001b[39m\u001b[23m 1, 2, 3, 2, 5, 4, 4, 3, 3, NA, NA, 4, NA, 4, 3, NA, 3,~\n",
      "$ ddimer_3_cat    \u001b[3m\u001b[90m<int>\u001b[39m\u001b[23m 1, NA, 2, 2, 3, 3, 3, 2, 3, NA, NA, 4, NA, 2, 3, NA, 3~\n",
      "$ ldh_3_cat       \u001b[3m\u001b[90m<int>\u001b[39m\u001b[23m 1, NA, 3, 3, NA, 5, 3, 1, 2, NA, NA, 4, NA, 2, 2, NA, ~\n",
      "$ abs_neut_7_cat  \u001b[3m\u001b[90m<int>\u001b[39m\u001b[23m NA, NA, NA, NA, 3, 3, NA, NA, NA, NA, NA, 3, NA, 2, 5,~\n",
      "$ abs_lymph_7_cat \u001b[3m\u001b[90m<int>\u001b[39m\u001b[23m NA, NA, NA, NA, 5, 3, NA, NA, NA, NA, NA, 3, NA, 1, 2,~\n",
      "$ abs_mono_7_cat  \u001b[3m\u001b[90m<int>\u001b[39m\u001b[23m NA, NA, NA, NA, 3, 2, NA, NA, NA, NA, NA, 3, NA, 2, 5,~\n",
      "$ creat_7_cat     \u001b[3m\u001b[90m<int>\u001b[39m\u001b[23m NA, NA, NA, NA, 1, 1, NA, NA, NA, NA, NA, 3, NA, 4, 1,~\n",
      "$ crp_7_cat       \u001b[3m\u001b[90m<int>\u001b[39m\u001b[23m NA, NA, NA, NA, 4, 4, NA, NA, NA, NA, NA, NA, NA, 1, N~\n",
      "$ ddimer_7_cat    \u001b[3m\u001b[90m<int>\u001b[39m\u001b[23m NA, NA, NA, NA, 4, 5, NA, NA, NA, NA, NA, 4, NA, 2, 4,~\n",
      "$ ldh_7_cat       \u001b[3m\u001b[90m<int>\u001b[39m\u001b[23m NA, NA, NA, NA, 3, 5, NA, NA, NA, NA, NA, 3, NA, 3, NA~\n"
     ]
    }
   ],
   "source": [
    "patient_df <- read.delim(\"/Users/jennylee/Downloads/MGH_Olink_COVID_Apr_27_2021/MGH_COVID_Clinical_Info.txt\", header=TRUE, sep=\";\")\n",
    "head(patient_df)\n",
    "print(paste0(\"This dataframe has \", nrow(patient_df), \" rows in total.\"))\n",
    "glimpse(patient_df)"
   ]
  },
  {
   "cell_type": "code",
   "execution_count": null,
   "metadata": {
    "tags": [
     "hide-input"
    ],
    "vscode": {
     "languageId": "r"
    }
   },
   "outputs": [],
   "source": [
    "patient_df <- read.delim(\"/Users/jennylee/Downloads/MGH_Olink_COVID_Apr_27_2021/MGH_COVID_OLINK_NPX.txt\", header=TRUE, sep=\";\")\n",
    "head(patient_df)\n",
    "print(paste0(\"This dataframe has \", nrow(patient_df), \" rows in total.\"))\n",
    "glimpse(patient_df)"
   ]
  }
 ],
 "metadata": {
  "kernelspec": {
   "display_name": "R",
   "language": "R",
   "name": "ir"
  },
  "language_info": {
   "codemirror_mode": "r",
   "file_extension": ".r",
   "mimetype": "text/x-r-source",
   "name": "R",
   "pygments_lexer": "r",
   "version": "4.3.2"
  }
 },
 "nbformat": 4,
 "nbformat_minor": 2
}
